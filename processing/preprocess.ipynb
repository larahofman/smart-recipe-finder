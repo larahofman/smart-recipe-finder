{
 "cells": [
  {
   "cell_type": "code",
   "execution_count": 1,
   "metadata": {},
   "outputs": [],
   "source": [
    "#Instal libreries with pip install numpy pandas googletrans==4.0.0-rc1"
   ]
  },
  {
   "cell_type": "code",
   "execution_count": 31,
   "metadata": {},
   "outputs": [],
   "source": [
    "import numpy as np \n",
    "import pandas as pd\n",
    "import ast\n",
    "from googletrans import Translator"
   ]
  },
  {
   "cell_type": "code",
   "execution_count": 20,
   "metadata": {},
   "outputs": [],
   "source": [
    "#Importing the dataset of original recipes\n",
    "recipes_df = pd.read_csv('gz_recipe.csv', index_col=0)"
   ]
  },
  {
   "cell_type": "code",
   "execution_count": 27,
   "metadata": {},
   "outputs": [
    {
     "data": {
      "text/html": [
       "<div>\n",
       "<style scoped>\n",
       "    .dataframe tbody tr th:only-of-type {\n",
       "        vertical-align: middle;\n",
       "    }\n",
       "\n",
       "    .dataframe tbody tr th {\n",
       "        vertical-align: top;\n",
       "    }\n",
       "\n",
       "    .dataframe thead th {\n",
       "        text-align: right;\n",
       "    }\n",
       "</style>\n",
       "<table border=\"1\" class=\"dataframe\">\n",
       "  <thead>\n",
       "    <tr style=\"text-align: right;\">\n",
       "      <th></th>\n",
       "      <th>Nome</th>\n",
       "      <th>Categoria</th>\n",
       "      <th>Persone/Pezzi</th>\n",
       "      <th>Ingredienti</th>\n",
       "      <th>Steps</th>\n",
       "    </tr>\n",
       "  </thead>\n",
       "  <tbody>\n",
       "    <tr>\n",
       "      <th>0</th>\n",
       "      <td>Tiramisù</td>\n",
       "      <td>Dolci</td>\n",
       "      <td>8</td>\n",
       "      <td>[['Mascarpone', '750g'], ['Uova', '260g'], ['S...</td>\n",
       "      <td>Per preparare il tiramisù preparate il caffé c...</td>\n",
       "    </tr>\n",
       "    <tr>\n",
       "      <th>1</th>\n",
       "      <td>Cookies</td>\n",
       "      <td>Dolci</td>\n",
       "      <td>12</td>\n",
       "      <td>[['Farina 00', '195g'], ['Burro', '100g'], ['B...</td>\n",
       "      <td>Per preparare i cookies, assicuratevi che il b...</td>\n",
       "    </tr>\n",
       "    <tr>\n",
       "      <th>2</th>\n",
       "      <td>Pancake allo sciroppo d'acero</td>\n",
       "      <td>Dolci</td>\n",
       "      <td>4</td>\n",
       "      <td>[['Burro', '25g'], ['Farina 00', '125g'], ['Uo...</td>\n",
       "      <td>Iniziamo la preparazione dei pancake fondendo ...</td>\n",
       "    </tr>\n",
       "    <tr>\n",
       "      <th>3</th>\n",
       "      <td>Crema al mascarpone</td>\n",
       "      <td>Dolci</td>\n",
       "      <td>4</td>\n",
       "      <td>[['Mascarpone', '500g'], ['Zucchero', '125g'],...</td>\n",
       "      <td>Per preparare la crema al mascarpone versate i...</td>\n",
       "    </tr>\n",
       "    <tr>\n",
       "      <th>4</th>\n",
       "      <td>Crepe dolci e salate (ricetta base)</td>\n",
       "      <td>Dolci</td>\n",
       "      <td>15</td>\n",
       "      <td>[['Uova', '3'], ['Farina 00', '250g'], ['Latte...</td>\n",
       "      <td>Per preparare le crepe dolci e salate iniziate...</td>\n",
       "    </tr>\n",
       "  </tbody>\n",
       "</table>\n",
       "</div>"
      ],
      "text/plain": [
       "                                  Nome Categoria  Persone/Pezzi  \\\n",
       "0                             Tiramisù     Dolci              8   \n",
       "1                              Cookies     Dolci             12   \n",
       "2        Pancake allo sciroppo d'acero     Dolci              4   \n",
       "3                  Crema al mascarpone     Dolci              4   \n",
       "4  Crepe dolci e salate (ricetta base)     Dolci             15   \n",
       "\n",
       "                                         Ingredienti  \\\n",
       "0  [['Mascarpone', '750g'], ['Uova', '260g'], ['S...   \n",
       "1  [['Farina 00', '195g'], ['Burro', '100g'], ['B...   \n",
       "2  [['Burro', '25g'], ['Farina 00', '125g'], ['Uo...   \n",
       "3  [['Mascarpone', '500g'], ['Zucchero', '125g'],...   \n",
       "4  [['Uova', '3'], ['Farina 00', '250g'], ['Latte...   \n",
       "\n",
       "                                               Steps  \n",
       "0  Per preparare il tiramisù preparate il caffé c...  \n",
       "1  Per preparare i cookies, assicuratevi che il b...  \n",
       "2  Iniziamo la preparazione dei pancake fondendo ...  \n",
       "3  Per preparare la crema al mascarpone versate i...  \n",
       "4  Per preparare le crepe dolci e salate iniziate...  "
      ]
     },
     "execution_count": 27,
     "metadata": {},
     "output_type": "execute_result"
    }
   ],
   "source": [
    "recipes_df.head()"
   ]
  },
  {
   "cell_type": "code",
   "execution_count": 23,
   "metadata": {},
   "outputs": [],
   "source": [
    "#Removing not needed column\n",
    "recipes_df.drop(columns=['Link'], inplace=True)"
   ]
  },
  {
   "cell_type": "code",
   "execution_count": 29,
   "metadata": {},
   "outputs": [],
   "source": [
    "#Changing the column names\n",
    "new_column_names = {\n",
    "    'Nome': 'Name',\n",
    "    'Categoria': 'Category',\n",
    "    'Persone/Pezzi': 'Servings',\n",
    "    'Ingredienti': 'Ingredients',\n",
    "}\n",
    "recipes_df.rename(columns=new_column_names, inplace=True)"
   ]
  },
  {
   "cell_type": "code",
   "execution_count": 25,
   "metadata": {},
   "outputs": [],
   "source": [
    "#Droping the rows with missing values\n",
    "recipes_df = recipes_df.dropna() \n",
    "recipes_df.reset_index(drop=True, inplace=True)"
   ]
  },
  {
   "cell_type": "code",
   "execution_count": 32,
   "metadata": {},
   "outputs": [],
   "source": [
    "#Translating the recipes to English\n",
    "translator = Translator()\n",
    "\n",
    "def translate_column(column_data):\n",
    "    results = []\n",
    "    for text in column_data:\n",
    "        try:\n",
    "            translated_text = translator.translate(str(text), src='it', dest='en').text\n",
    "            results.append(translated_text)\n",
    "        except Exception as e:\n",
    "            print(f\"Error translating text: {text}, Error: {e}\")\n",
    "            results.append(\"\")\n",
    "    return pd.Series(results)\n",
    "\n",
    "recipes_df[\"Name\"] = translate_column(recipes_df[\"Name\"])\n"
   ]
  },
  {
   "cell_type": "code",
   "execution_count": null,
   "metadata": {},
   "outputs": [],
   "source": [
    "def translate_column_steps(column_data):\n",
    "    return column_data.apply(lambda text: translator.translate(text, src='it', dest='en').text if pd.notnull(text) else text)\n",
    "\n",
    "recipes_df[\"Steps\"] = translate_column_steps(recipes_df[\"Steps\"])"
   ]
  },
  {
   "cell_type": "code",
   "execution_count": null,
   "metadata": {},
   "outputs": [],
   "source": [
    "#Extracting unique ingredients and categories and translating them to English\n",
    "recipes_df[\"Ingredients\"] = recipes_df[\"Ingredients\"].apply(lambda x: ast.literal_eval(x) if pd.notnull(x) else [])\n",
    "\n",
    "unique_ingredients = set()\n",
    "for ingredient_list in recipes_df[\"Ingredients\"]:\n",
    "    for item in ingredient_list:\n",
    "        unique_ingredients.add(item[0])\n",
    "        \n",
    "translations = {}\n",
    "for ingredient in unique_ingredients:\n",
    "    try:\n",
    "        translations[ingredient] = translator.translate(ingredient, src='it', dest='en').text\n",
    "    except Exception as e:\n",
    "        print(f\"Error translating ingredient: {ingredient}, Error: {e}\")\n",
    "        translations[ingredient] = ingredient\n",
    "\n",
    "def translate_ingredients(ingredient_list):\n",
    "    return [[translations[item[0]], item[1]] for item in ingredient_list]\n",
    "\n",
    "recipes_df[\"Ingredients\"] = recipes_df[\"Ingredients\"].apply(translate_ingredients)\n",
    "\n",
    "unique_categories = set(recipes_df[\"Categories\"])\n",
    "\n",
    "category_translations = {}\n",
    "for category in unique_categories:\n",
    "    try:\n",
    "        category_translations[category] = translator.translate(category, src='it', dest='en').text\n",
    "    except Exception as e:\n",
    "        print(f\"Error translating category: {category}, Error: {e}\")\n",
    "        category_translations[category] = category\n",
    "\n",
    "recipes_df[\"Categories\"] = recipes_df[\"Categories\"].apply(lambda x: category_translations[x])\n"
   ]
  },
  {
   "cell_type": "code",
   "execution_count": 22,
   "metadata": {},
   "outputs": [],
   "source": [
    "#Droping the rows with missing values after translation\n",
    "recipes_df = recipes_df.dropna() \n",
    "recipes_df.reset_index(drop=True, inplace=True)"
   ]
  },
  {
   "cell_type": "code",
   "execution_count": null,
   "metadata": {},
   "outputs": [],
   "source": [
    "# List of ingredients our YOLO model can detect\n",
    "ingredient_list = [\n",
    "    'apple', 'banana', 'beetroot', 'bell pepper', 'cabbage', 'capsicum', 'carrot', 'cauliflower', \n",
    "    'chilli pepper', 'corn', 'cucumber', 'eggplant', 'garlic', 'ginger', 'lemon', 'lettuce', \n",
    "    'onion', 'orange', 'pear', 'peas', 'pineapple', 'potato', 'spinach', 'sweetpotato', 'tomato', \n",
    "    'butter', 'eggs', 'flour', 'milk', 'pasta', 'sugar'\n",
    "]\n",
    "\n",
    "# Function to remove ingredients containing 'powder' or 'salt'\n",
    "def remove_and_replace_ingredients(ingredients):\n",
    "    cleaned_ingredients = []\n",
    "    for ingredient in ingredients:\n",
    "        ingredient_name = ingredient[0].lower()\n",
    "        if 'yolk' in ingredient_name:\n",
    "            ingredient_name = ingredient_name.replace('yolk', 'egg')\n",
    "        if ('powder' not in ingredient_name and 'salt' not in ingredient_name and 'pepper' not in ingredient_name and\n",
    "            'nutmeg' not in ingredient_name and 'parmigiano' not in ingredient_name and 'oil' not in ingredient_name):\n",
    "            cleaned_ingredients.append([ingredient_name, ingredient[1]])\n",
    "    return cleaned_ingredients\n",
    "\n",
    "# Apply the function to the 'Ingredients' column\n",
    "recipes_df['Ingredients'] = recipes_df['Ingredients'].apply(eval)  # Convert string representation of list to actual list\n",
    "recipes_df['Ingredients'] = recipes_df['Ingredients'].apply(remove_and_replace_ingredients)\n",
    "\n",
    "# Function to check if an ingredient matches any in the list\n",
    "def matches_ingredient(ingredient, ingredient_list):\n",
    "    for item in ingredient_list:\n",
    "        if item in ingredient:\n",
    "            return True\n",
    "    return False\n",
    "\n",
    "# Function to calculate the percentage of matching ingredients\n",
    "def match_percentage(ingredients, ingredient_list):\n",
    "    match_count = sum(matches_ingredient(ingredient[0].lower(), ingredient_list) for ingredient in ingredients)\n",
    "    return match_count / len(ingredients)\n",
    "\n",
    "# Filtered recipes where 80% or more of the ingredients match the list of ingredients\n",
    "df_filtered = recipes_df[recipes_df['Ingredients'].apply(lambda x: match_percentage(x, ingredient_list) >= 0.8)]\n",
    "\n",
    "df_filtered.head()"
   ]
  },
  {
   "cell_type": "code",
   "execution_count": null,
   "metadata": {},
   "outputs": [],
   "source": [
    "df_filtered.to_csv('filtered.csv')"
   ]
  }
 ],
 "metadata": {
  "kernelspec": {
   "display_name": "inf554",
   "language": "python",
   "name": "python3"
  },
  "language_info": {
   "codemirror_mode": {
    "name": "ipython",
    "version": 3
   },
   "file_extension": ".py",
   "mimetype": "text/x-python",
   "name": "python",
   "nbconvert_exporter": "python",
   "pygments_lexer": "ipython3",
   "version": "3.11.10"
  }
 },
 "nbformat": 4,
 "nbformat_minor": 2
}
